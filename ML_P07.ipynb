{
 "cells": [
  {
   "cell_type": "code",
   "execution_count": 38,
   "id": "a7ba03fc",
   "metadata": {},
   "outputs": [],
   "source": [
    "import numpy as np\n",
    "import pandas as pd\n",
    "\n",
    "import matplotlib.pyplot as plt\n",
    "from sklearn.metrics import mean_squared_error, r2_score"
   ]
  },
  {
   "cell_type": "code",
   "execution_count": 39,
   "id": "b8ca2a8f",
   "metadata": {},
   "outputs": [],
   "source": [
    "nRowRead = 1000\n",
    "data = pd.read_csv('./Indian_stock_market_dataset/Indian_stock_market.csv', delimiter=',', nrows = nRowRead)\n",
    "data.dataframeName = 'Indian_stock_market.csv'\n",
    "nRow, nCol = data.shape"
   ]
  },
  {
   "cell_type": "code",
   "execution_count": 40,
   "id": "2b79bd58",
   "metadata": {},
   "outputs": [
    {
     "name": "stdout",
     "output_type": "stream",
     "text": [
      "<class 'pandas.core.frame.DataFrame'>\n",
      "RangeIndex: 1000 entries, 0 to 999\n",
      "Data columns (total 7 columns):\n",
      " #   Column     Non-Null Count  Dtype  \n",
      "---  ------     --------------  -----  \n",
      " 0   Date       1000 non-null   object \n",
      " 1   Open       1000 non-null   float64\n",
      " 2   High       1000 non-null   float64\n",
      " 3   Low        1000 non-null   float64\n",
      " 4   Close      1000 non-null   float64\n",
      " 5   Adj Close  1000 non-null   float64\n",
      " 6   Volume     1000 non-null   int64  \n",
      "dtypes: float64(5), int64(1), object(1)\n",
      "memory usage: 54.8+ KB\n"
     ]
    }
   ],
   "source": [
    "data.info()"
   ]
  },
  {
   "cell_type": "code",
   "execution_count": 41,
   "id": "1424f9ae",
   "metadata": {},
   "outputs": [
    {
     "data": {
      "text/html": [
       "<div>\n",
       "<style scoped>\n",
       "    .dataframe tbody tr th:only-of-type {\n",
       "        vertical-align: middle;\n",
       "    }\n",
       "\n",
       "    .dataframe tbody tr th {\n",
       "        vertical-align: top;\n",
       "    }\n",
       "\n",
       "    .dataframe thead th {\n",
       "        text-align: right;\n",
       "    }\n",
       "</style>\n",
       "<table border=\"1\" class=\"dataframe\">\n",
       "  <thead>\n",
       "    <tr style=\"text-align: right;\">\n",
       "      <th></th>\n",
       "      <th>Open</th>\n",
       "      <th>High</th>\n",
       "      <th>Low</th>\n",
       "      <th>Close</th>\n",
       "      <th>Adj Close</th>\n",
       "      <th>Volume</th>\n",
       "    </tr>\n",
       "  </thead>\n",
       "  <tbody>\n",
       "    <tr>\n",
       "      <th>count</th>\n",
       "      <td>1000.000000</td>\n",
       "      <td>1000.000000</td>\n",
       "      <td>1000.000000</td>\n",
       "      <td>1000.000000</td>\n",
       "      <td>1000.000000</td>\n",
       "      <td>1.000000e+03</td>\n",
       "    </tr>\n",
       "    <tr>\n",
       "      <th>mean</th>\n",
       "      <td>93.080360</td>\n",
       "      <td>95.466270</td>\n",
       "      <td>90.289850</td>\n",
       "      <td>92.655950</td>\n",
       "      <td>92.655950</td>\n",
       "      <td>3.301438e+05</td>\n",
       "    </tr>\n",
       "    <tr>\n",
       "      <th>std</th>\n",
       "      <td>37.998450</td>\n",
       "      <td>39.022658</td>\n",
       "      <td>36.897481</td>\n",
       "      <td>37.985424</td>\n",
       "      <td>37.985424</td>\n",
       "      <td>8.235784e+05</td>\n",
       "    </tr>\n",
       "    <tr>\n",
       "      <th>min</th>\n",
       "      <td>13.600000</td>\n",
       "      <td>14.600000</td>\n",
       "      <td>13.400000</td>\n",
       "      <td>13.900000</td>\n",
       "      <td>13.900000</td>\n",
       "      <td>0.000000e+00</td>\n",
       "    </tr>\n",
       "    <tr>\n",
       "      <th>25%</th>\n",
       "      <td>74.467503</td>\n",
       "      <td>76.599998</td>\n",
       "      <td>71.824999</td>\n",
       "      <td>74.549997</td>\n",
       "      <td>74.549997</td>\n",
       "      <td>5.101625e+04</td>\n",
       "    </tr>\n",
       "    <tr>\n",
       "      <th>50%</th>\n",
       "      <td>97.000000</td>\n",
       "      <td>100.735001</td>\n",
       "      <td>94.320000</td>\n",
       "      <td>96.300003</td>\n",
       "      <td>96.300003</td>\n",
       "      <td>1.138675e+05</td>\n",
       "    </tr>\n",
       "    <tr>\n",
       "      <th>75%</th>\n",
       "      <td>117.192501</td>\n",
       "      <td>119.820002</td>\n",
       "      <td>114.450001</td>\n",
       "      <td>116.887499</td>\n",
       "      <td>116.887499</td>\n",
       "      <td>2.645112e+05</td>\n",
       "    </tr>\n",
       "    <tr>\n",
       "      <th>max</th>\n",
       "      <td>210.910004</td>\n",
       "      <td>224.000000</td>\n",
       "      <td>204.000000</td>\n",
       "      <td>214.809998</td>\n",
       "      <td>214.809998</td>\n",
       "      <td>1.257199e+07</td>\n",
       "    </tr>\n",
       "  </tbody>\n",
       "</table>\n",
       "</div>"
      ],
      "text/plain": [
       "              Open         High          Low        Close    Adj Close  \\\n",
       "count  1000.000000  1000.000000  1000.000000  1000.000000  1000.000000   \n",
       "mean     93.080360    95.466270    90.289850    92.655950    92.655950   \n",
       "std      37.998450    39.022658    36.897481    37.985424    37.985424   \n",
       "min      13.600000    14.600000    13.400000    13.900000    13.900000   \n",
       "25%      74.467503    76.599998    71.824999    74.549997    74.549997   \n",
       "50%      97.000000   100.735001    94.320000    96.300003    96.300003   \n",
       "75%     117.192501   119.820002   114.450001   116.887499   116.887499   \n",
       "max     210.910004   224.000000   204.000000   214.809998   214.809998   \n",
       "\n",
       "             Volume  \n",
       "count  1.000000e+03  \n",
       "mean   3.301438e+05  \n",
       "std    8.235784e+05  \n",
       "min    0.000000e+00  \n",
       "25%    5.101625e+04  \n",
       "50%    1.138675e+05  \n",
       "75%    2.645112e+05  \n",
       "max    1.257199e+07  "
      ]
     },
     "execution_count": 41,
     "metadata": {},
     "output_type": "execute_result"
    }
   ],
   "source": [
    "data.describe()"
   ]
  },
  {
   "cell_type": "code",
   "execution_count": 42,
   "id": "d250e518",
   "metadata": {},
   "outputs": [
    {
     "data": {
      "text/plain": [
       "Index(['Date', 'Open', 'High', 'Low', 'Close', 'Adj Close', 'Volume'], dtype='object')"
      ]
     },
     "execution_count": 42,
     "metadata": {},
     "output_type": "execute_result"
    }
   ],
   "source": [
    "data.columns"
   ]
  },
  {
   "cell_type": "code",
   "execution_count": 43,
   "id": "dcb04414",
   "metadata": {},
   "outputs": [
    {
     "data": {
      "text/plain": [
       "Date         0\n",
       "Open         0\n",
       "High         0\n",
       "Low          0\n",
       "Close        0\n",
       "Adj Close    0\n",
       "Volume       0\n",
       "dtype: int64"
      ]
     },
     "execution_count": 43,
     "metadata": {},
     "output_type": "execute_result"
    }
   ],
   "source": [
    "# check null values\n",
    "\n",
    "data.isnull().sum()"
   ]
  },
  {
   "cell_type": "code",
   "execution_count": 44,
   "id": "4650697e",
   "metadata": {},
   "outputs": [
    {
     "data": {
      "text/plain": [
       "<AxesSubplot: >"
      ]
     },
     "execution_count": 44,
     "metadata": {},
     "output_type": "execute_result"
    },
    {
     "data": {
      "image/png": "[encoded data removed]",
      "text/plain": [
       "<Figure size 640x480 with 1 Axes>"
      ]
     },
     "metadata": {},
     "output_type": "display_data"
    }
   ],
   "source": [
    "data['Adj Close'].plot()"
   ]
  },
  {
   "cell_type": "code",
   "execution_count": 45,
   "id": "923fc660",
   "metadata": {},
   "outputs": [],
   "source": [
    "# set Target variable\n",
    "output_var = pd.DataFrame(data['Adj Close'])\n",
    "\n",
    "# selecting the Features\n",
    "features = [\"Open\", \"High\", \"Low\", \"Volume\"]"
   ]
  },
  {
   "cell_type": "code",
   "execution_count": 46,
   "id": "20ca1f61",
   "metadata": {},
   "outputs": [
    {
     "name": "stdout",
     "output_type": "stream",
     "text": [
      "<class 'pandas.core.frame.DataFrame'>\n",
      "RangeIndex: 1000 entries, 0 to 999\n",
      "Data columns (total 4 columns):\n",
      " #   Column  Non-Null Count  Dtype  \n",
      "---  ------  --------------  -----  \n",
      " 0   Open    1000 non-null   float64\n",
      " 1   High    1000 non-null   float64\n",
      " 2   Low     1000 non-null   float64\n",
      " 3   Volume  1000 non-null   float64\n",
      "dtypes: float64(4)\n",
      "memory usage: 31.4 KB\n"
     ]
    }
   ],
   "source": [
    "# Normalizing Dataset\n",
    "\n",
    "from sklearn.preprocessing import MinMaxScaler\n",
    "\n",
    "scaler = MinMaxScaler()\n",
    "feature_transform = scaler.fit_transform(data[features])\n",
    "feature_transform = pd.DataFrame(columns = features, data = feature_transform, index = data.index)\n",
    "feature_transform.info()"
   ]
  },
  {
   "cell_type": "code",
   "execution_count": 47,
   "id": "2b31c2b3",
   "metadata": {},
   "outputs": [],
   "source": [
    "from sklearn.model_selection import TimeSeriesSplit\n",
    "time_split = TimeSeriesSplit(n_splits = 10)\n",
    "\n",
    "for train_index, test_index in time_split.split(feature_transform):\n",
    "    x_train, x_test = feature_transform[:len(train_index)], feature_transform[len(train_index): (len(train_index) + len(test_index))]\n",
    "    y_train, y_test = output_var[:len(train_index)].values.ravel(), output_var[len(train_index): (len(train_index) + len(test_index))].values.ravel()\n",
    "    "
   ]
  },
  {
   "cell_type": "code",
   "execution_count": 48,
   "id": "a0f12e60",
   "metadata": {},
   "outputs": [],
   "source": [
    "# Process the data for LSTM\n",
    "\n",
    "trainX = np.array(x_train)\n",
    "testX = np.array(x_test)\n",
    "x_train = trainX.reshape(x_train.shape[0],1, x_train.shape[1])\n",
    "x_test = testX.reshape(x_test.shape[0], 1, x_test.shape[1])"
   ]
  },
  {
   "cell_type": "code",
   "execution_count": 55,
   "id": "a3664168",
   "metadata": {},
   "outputs": [
    {
     "name": "stdout",
     "output_type": "stream",
     "text": [
      "You must install pydot (`pip install pydot`) and install graphviz (see instructions at https://graphviz.gitlab.io/download/) for plot_model to work.\n"
     ]
    }
   ],
   "source": [
    "from keras.models import Sequential\n",
    "from keras.layers import Dense, LSTM\n",
    "from keras.utils.vis_utils import plot_model\n",
    "\n",
    "# Building LSTM Model\n",
    "# for LSTM 1 input\n",
    "\n",
    "lstm = Sequential()\n",
    "lstm.add(LSTM(32, input_shape=(1, trainX.shape[1]), activation=\"relu\", return_sequences = False))\n",
    "lstm.add(Dense(1))\n",
    "lstm.compile(loss = \"mean_squared_error\", optimizer = \"adam\")\n",
    "plot_model(lstm, show_shapes = True, show_layer_names = True)"
   ]
  },
  {
   "cell_type": "code",
   "execution_count": 56,
   "id": "379635f6",
   "metadata": {},
   "outputs": [
    {
     "name": "stdout",
     "output_type": "stream",
     "text": [
      "You must install pydot (`pip install pydot`) and install graphviz (see instructions at https://graphviz.gitlab.io/download/) for plot_model to work.\n"
     ]
    }
   ],
   "source": [
    "# Building LSTM Model\n",
    "# for LSTM 2 input\n",
    "lstm = Sequential()\n",
    "lstm.add(LSTM(32, input_shape=(1, trainX.shape[1]), activation=\"relu\", return_sequences = False))\n",
    "lstm.add(Dense(1))\n",
    "lstm.compile(loss = \"mean_squared_error\", optimizer = \"adam\")\n",
    "plot_model(lstm, show_shapes = True, show_layer_names = True)"
   ]
  },
  {
   "cell_type": "code",
   "execution_count": 57,
   "id": "c1669381",
   "metadata": {},
   "outputs": [
    {
     "name": "stdout",
     "output_type": "stream",
     "text": [
      "Epoch 1/100\n",
      "114/114 [==============================] - 3s 4ms/step - loss: 9741.8564\n",
      "Epoch 2/100\n",
      "114/114 [==============================] - 0s 4ms/step - loss: 9657.6914\n",
      "Epoch 3/100\n",
      "114/114 [==============================] - 1s 4ms/step - loss: 9426.1123\n",
      "Epoch 4/100\n",
      "114/114 [==============================] - 0s 4ms/step - loss: 8959.6533\n",
      "Epoch 5/100\n",
      "114/114 [==============================] - 0s 4ms/step - loss: 8249.6377\n",
      "Epoch 6/100\n",
      "114/114 [==============================] - 1s 5ms/step - loss: 7357.7974\n",
      "Epoch 7/100\n",
      "114/114 [==============================] - 0s 4ms/step - loss: 6368.5859\n",
      "Epoch 8/100\n",
      "114/114 [==============================] - 0s 4ms/step - loss: 5358.8252\n",
      "Epoch 9/100\n",
      "114/114 [==============================] - 0s 4ms/step - loss: 4387.6865\n",
      "Epoch 10/100\n",
      "114/114 [==============================] - 0s 4ms/step - loss: 3496.8223\n",
      "Epoch 11/100\n",
      "114/114 [==============================] - 1s 4ms/step - loss: 2712.8450\n",
      "Epoch 12/100\n",
      "114/114 [==============================] - 0s 4ms/step - loss: 2049.6584\n",
      "Epoch 13/100\n",
      "114/114 [==============================] - 0s 4ms/step - loss: 1510.4288\n",
      "Epoch 14/100\n",
      "114/114 [==============================] - 0s 4ms/step - loss: 1089.5297\n",
      "Epoch 15/100\n",
      "114/114 [==============================] - 0s 4ms/step - loss: 774.6668\n",
      "Epoch 16/100\n",
      "114/114 [==============================] - 0s 4ms/step - loss: 549.2639\n",
      "Epoch 17/100\n",
      "114/114 [==============================] - 0s 4ms/step - loss: 394.9174\n",
      "Epoch 18/100\n",
      "114/114 [==============================] - 1s 4ms/step - loss: 293.6530\n",
      "Epoch 19/100\n",
      "114/114 [==============================] - 0s 4ms/step - loss: 229.6422\n",
      "Epoch 20/100\n",
      "114/114 [==============================] - 0s 4ms/step - loss: 190.1741\n",
      "Epoch 21/100\n",
      "114/114 [==============================] - 0s 4ms/step - loss: 165.8826\n",
      "Epoch 22/100\n",
      "114/114 [==============================] - 0s 4ms/step - loss: 150.4050\n",
      "Epoch 23/100\n",
      "114/114 [==============================] - 0s 4ms/step - loss: 139.7372\n",
      "Epoch 24/100\n",
      "114/114 [==============================] - 0s 4ms/step - loss: 131.5357\n",
      "Epoch 25/100\n",
      "114/114 [==============================] - 0s 4ms/step - loss: 124.5219\n",
      "Epoch 26/100\n",
      "114/114 [==============================] - 0s 4ms/step - loss: 118.0446\n",
      "Epoch 27/100\n",
      "114/114 [==============================] - 0s 4ms/step - loss: 111.7975\n",
      "Epoch 28/100\n",
      "114/114 [==============================] - 0s 4ms/step - loss: 105.6514\n",
      "Epoch 29/100\n",
      "114/114 [==============================] - 0s 4ms/step - loss: 99.5634\n",
      "Epoch 30/100\n",
      "114/114 [==============================] - 1s 4ms/step - loss: 93.5313\n",
      "Epoch 31/100\n",
      "114/114 [==============================] - 0s 4ms/step - loss: 87.5713\n",
      "Epoch 32/100\n",
      "114/114 [==============================] - 1s 4ms/step - loss: 81.7076\n",
      "Epoch 33/100\n",
      "114/114 [==============================] - 0s 4ms/step - loss: 75.9683\n",
      "Epoch 34/100\n",
      "114/114 [==============================] - 0s 4ms/step - loss: 70.3818\n",
      "Epoch 35/100\n",
      "114/114 [==============================] - 0s 4ms/step - loss: 64.9765\n",
      "Epoch 36/100\n",
      "114/114 [==============================] - 0s 4ms/step - loss: 59.7794\n",
      "Epoch 37/100\n",
      "114/114 [==============================] - 0s 4ms/step - loss: 54.8150\n",
      "Epoch 38/100\n",
      "114/114 [==============================] - 0s 4ms/step - loss: 50.1053\n",
      "Epoch 39/100\n",
      "114/114 [==============================] - 0s 4ms/step - loss: 45.6688\n",
      "Epoch 40/100\n",
      "114/114 [==============================] - 0s 4ms/step - loss: 41.5204\n",
      "Epoch 41/100\n",
      "114/114 [==============================] - 0s 4ms/step - loss: 37.6709\n",
      "Epoch 42/100\n",
      "114/114 [==============================] - 0s 4ms/step - loss: 34.1271\n",
      "Epoch 43/100\n",
      "114/114 [==============================] - 1s 4ms/step - loss: 30.8916\n",
      "Epoch 44/100\n",
      "114/114 [==============================] - 0s 4ms/step - loss: 27.9628\n",
      "Epoch 45/100\n",
      "114/114 [==============================] - 0s 4ms/step - loss: 25.3354\n",
      "Epoch 46/100\n",
      "114/114 [==============================] - 1s 4ms/step - loss: 23.0003\n",
      "Epoch 47/100\n",
      "114/114 [==============================] - 1s 4ms/step - loss: 20.9450\n",
      "Epoch 48/100\n",
      "114/114 [==============================] - 0s 4ms/step - loss: 19.1543\n",
      "Epoch 49/100\n",
      "114/114 [==============================] - 0s 4ms/step - loss: 17.6105\n",
      "Epoch 50/100\n",
      "114/114 [==============================] - 0s 4ms/step - loss: 16.2936\n",
      "Epoch 51/100\n",
      "114/114 [==============================] - 0s 4ms/step - loss: 15.1829\n",
      "Epoch 52/100\n",
      "114/114 [==============================] - 0s 4ms/step - loss: 14.2560\n",
      "Epoch 53/100\n",
      "114/114 [==============================] - 0s 4ms/step - loss: 13.4913\n",
      "Epoch 54/100\n",
      "114/114 [==============================] - 1s 5ms/step - loss: 12.8661\n",
      "Epoch 55/100\n",
      "114/114 [==============================] - 0s 4ms/step - loss: 12.3606\n",
      "Epoch 56/100\n",
      "114/114 [==============================] - 0s 4ms/step - loss: 11.9535\n",
      "Epoch 57/100\n",
      "114/114 [==============================] - 0s 4ms/step - loss: 11.6287\n",
      "Epoch 58/100\n",
      "114/114 [==============================] - 0s 4ms/step - loss: 11.3691\n",
      "Epoch 59/100\n",
      "114/114 [==============================] - 0s 4ms/step - loss: 11.1612\n",
      "Epoch 60/100\n",
      "114/114 [==============================] - 0s 4ms/step - loss: 10.9917\n",
      "Epoch 61/100\n",
      "114/114 [==============================] - 0s 4ms/step - loss: 10.8525\n",
      "Epoch 62/100\n",
      "114/114 [==============================] - 0s 4ms/step - loss: 10.7373\n",
      "Epoch 63/100\n",
      "114/114 [==============================] - 1s 4ms/step - loss: 10.6389\n",
      "Epoch 64/100\n",
      "114/114 [==============================] - 0s 4ms/step - loss: 10.5529\n",
      "Epoch 65/100\n",
      "114/114 [==============================] - 0s 4ms/step - loss: 10.4762\n",
      "Epoch 66/100\n",
      "114/114 [==============================] - 0s 4ms/step - loss: 10.4066\n",
      "Epoch 67/100\n",
      "114/114 [==============================] - 0s 4ms/step - loss: 10.3407\n",
      "Epoch 68/100\n",
      "114/114 [==============================] - 1s 5ms/step - loss: 10.2811\n",
      "Epoch 69/100\n",
      "114/114 [==============================] - 0s 4ms/step - loss: 10.2219\n",
      "Epoch 70/100\n",
      "114/114 [==============================] - 0s 4ms/step - loss: 10.1674\n",
      "Epoch 71/100\n",
      "114/114 [==============================] - 0s 4ms/step - loss: 10.1148\n",
      "Epoch 72/100\n",
      "114/114 [==============================] - 0s 4ms/step - loss: 10.0644\n",
      "Epoch 73/100\n",
      "114/114 [==============================] - 0s 4ms/step - loss: 10.0159\n",
      "Epoch 74/100\n",
      "114/114 [==============================] - 0s 4ms/step - loss: 9.9698\n",
      "Epoch 75/100\n",
      "114/114 [==============================] - 0s 4ms/step - loss: 9.9255\n",
      "Epoch 76/100\n",
      "114/114 [==============================] - 0s 4ms/step - loss: 9.8830\n",
      "Epoch 77/100\n",
      "114/114 [==============================] - 0s 4ms/step - loss: 9.8424\n",
      "Epoch 78/100\n",
      "114/114 [==============================] - 0s 4ms/step - loss: 9.8035\n",
      "Epoch 79/100\n",
      "114/114 [==============================] - 0s 4ms/step - loss: 9.7663\n",
      "Epoch 80/100\n",
      "114/114 [==============================] - 0s 4ms/step - loss: 9.7309\n",
      "Epoch 81/100\n",
      "114/114 [==============================] - 0s 4ms/step - loss: 9.6970\n",
      "Epoch 82/100\n",
      "114/114 [==============================] - 0s 4ms/step - loss: 9.6647\n",
      "Epoch 83/100\n",
      "114/114 [==============================] - 0s 4ms/step - loss: 9.6340\n",
      "Epoch 84/100\n",
      "114/114 [==============================] - 0s 4ms/step - loss: 9.6046\n",
      "Epoch 85/100\n",
      "114/114 [==============================] - 0s 4ms/step - loss: 9.5767\n",
      "Epoch 86/100\n",
      "114/114 [==============================] - 0s 4ms/step - loss: 9.5500\n",
      "Epoch 87/100\n",
      "114/114 [==============================] - 0s 4ms/step - loss: 9.5247\n",
      "Epoch 88/100\n",
      "114/114 [==============================] - 0s 4ms/step - loss: 9.5005\n",
      "Epoch 89/100\n",
      "114/114 [==============================] - 0s 4ms/step - loss: 9.4775\n",
      "Epoch 90/100\n",
      "114/114 [==============================] - 0s 4ms/step - loss: 9.4557\n",
      "Epoch 91/100\n",
      "114/114 [==============================] - 0s 4ms/step - loss: 9.4348\n",
      "Epoch 92/100\n",
      "114/114 [==============================] - 0s 4ms/step - loss: 9.4149\n",
      "Epoch 93/100\n",
      "114/114 [==============================] - 0s 4ms/step - loss: 9.3958\n",
      "Epoch 94/100\n",
      "114/114 [==============================] - 0s 4ms/step - loss: 9.3778\n",
      "Epoch 95/100\n",
      "114/114 [==============================] - 0s 4ms/step - loss: 9.3605\n",
      "Epoch 96/100\n",
      "114/114 [==============================] - 0s 4ms/step - loss: 9.3439\n",
      "Epoch 97/100\n",
      "114/114 [==============================] - 0s 4ms/step - loss: 9.3279\n",
      "Epoch 98/100\n"
     ]
    },
    {
     "name": "stdout",
     "output_type": "stream",
     "text": [
      "114/114 [==============================] - 0s 4ms/step - loss: 9.3128\n",
      "Epoch 99/100\n",
      "114/114 [==============================] - 0s 4ms/step - loss: 9.2982\n",
      "Epoch 100/100\n",
      "114/114 [==============================] - 0s 4ms/step - loss: 9.2842\n"
     ]
    }
   ],
   "source": [
    "history = lstm.fit(x_train, y_train, epochs = 100, batch_size = 8, verbose = 1, shuffle = False)\n"
   ]
  },
  {
   "cell_type": "code",
   "execution_count": 58,
   "id": "4d19adf2",
   "metadata": {},
   "outputs": [
    {
     "name": "stdout",
     "output_type": "stream",
     "text": [
      "3/3 [==============================] - 0s 6ms/step\n"
     ]
    }
   ],
   "source": [
    "# LSTM Prediction\n",
    "y_pred = lstm.predict(x_test)"
   ]
  },
  {
   "cell_type": "code",
   "execution_count": 59,
   "id": "7c8b9697",
   "metadata": {},
   "outputs": [
    {
     "data": {
      "image/png": "[encoded data removed]",
      "text/plain": [
       "<Figure size 640x480 with 1 Axes>"
      ]
     },
     "metadata": {},
     "output_type": "display_data"
    }
   ],
   "source": [
    "# Prediction vs True Adj Close Value - LSTM\n",
    "\n",
    "plt.plot(y_test, label = \"True Vale\")\n",
    "plt.plot(y_pred, label = \"LSTM Value\")\n",
    "plt.title(\"Prediction by LSTM Model\")\n",
    "plt.xlabel(\"Time Scale\")\n",
    "plt.ylabel(\"Scaled USD\")\n",
    "plt.legend()\n",
    "plt.show()"
   ]
  },
  {
   "cell_type": "code",
   "execution_count": 61,
   "id": "fe056a6d",
   "metadata": {},
   "outputs": [
    {
     "data": {
      "text/plain": [
       "0.8788618613676987"
      ]
     },
     "execution_count": 61,
     "metadata": {},
     "output_type": "execute_result"
    }
   ],
   "source": [
    "from sklearn import metrics\n",
    "\n",
    "# R2 Score\n",
    "metrics.r2_score(y_test, y_pred)"
   ]
  },
  {
   "cell_type": "code",
   "execution_count": 62,
   "id": "f7fce8d8",
   "metadata": {},
   "outputs": [],
   "source": [
    "# R2 score is : 0.87"
   ]
  },
  {
   "cell_type": "code",
   "execution_count": null,
   "id": "6225fdd6",
   "metadata": {},
   "outputs": [],
   "source": [
    "# Thanks For Watching"
   ]
  },
  {
   "cell_type": "code",
   "execution_count": null,
   "id": "2e8f7f70",
   "metadata": {},
   "outputs": [],
   "source": []
  }
 ],
 "metadata": {
  "kernelspec": {
   "display_name": "Python 3 (ipykernel)",
   "language": "python",
   "name": "python3"
  },
  "language_info": {
   "codemirror_mode": {
    "name": "ipython",
    "version": 3
   },
   "file_extension": ".py",
   "mimetype": "text/x-python",
   "name": "python",
   "nbconvert_exporter": "python",
   "pygments_lexer": "ipython3",
   "version": "3.10.5"
  }
 },
 "nbformat": 4,
 "nbformat_minor": 5
}
